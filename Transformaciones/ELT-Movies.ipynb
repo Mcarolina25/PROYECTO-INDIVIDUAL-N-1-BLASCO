{
 "cells": [
  {
   "cell_type": "code",
   "execution_count": 9,
   "metadata": {},
   "outputs": [],
   "source": [
    "import pandas as pd\n",
    "import numpy as np\n",
    "import ast"
   ]
  },
  {
   "cell_type": "markdown",
   "metadata": {},
   "source": [
    "Desanidar columnas:\n"
   ]
  },
  {
   "cell_type": "code",
   "execution_count": 10,
   "metadata": {},
   "outputs": [
    {
     "name": "stderr",
     "output_type": "stream",
     "text": [
      "<>:2: SyntaxWarning: invalid escape sequence '\\M'\n",
      "<>:3: SyntaxWarning: invalid escape sequence '\\M'\n",
      "<>:2: SyntaxWarning: invalid escape sequence '\\M'\n",
      "<>:3: SyntaxWarning: invalid escape sequence '\\M'\n",
      "C:\\Users\\Admin\\AppData\\Local\\Temp\\ipykernel_18744\\1353971534.py:2: SyntaxWarning: invalid escape sequence '\\M'\n",
      "  movies = pd.read_csv(\"..\\Movies\\movies_dataset.csv\", low_memory=False)\n",
      "C:\\Users\\Admin\\AppData\\Local\\Temp\\ipykernel_18744\\1353971534.py:3: SyntaxWarning: invalid escape sequence '\\M'\n",
      "  credits = pd.read_csv(\"..\\Movies\\processed_credits_dataset.csv\")\n"
     ]
    },
    {
     "name": "stdout",
     "output_type": "stream",
     "text": [
      "   adult                              belongs_to_collection    budget  \\\n",
      "0  False  {'id': 10194, 'name': 'Toy Story Collection', ...  30000000   \n",
      "1  False                                                NaN  65000000   \n",
      "2  False  {'id': 119050, 'name': 'Grumpy Old Men Collect...         0   \n",
      "3  False                                                NaN  16000000   \n",
      "4  False  {'id': 96871, 'name': 'Father of the Bride Col...         0   \n",
      "\n",
      "                                              genres  \\\n",
      "0  [{'id': 16, 'name': 'Animation'}, {'id': 35, '...   \n",
      "1  [{'id': 12, 'name': 'Adventure'}, {'id': 14, '...   \n",
      "2  [{'id': 10749, 'name': 'Romance'}, {'id': 35, ...   \n",
      "3  [{'id': 35, 'name': 'Comedy'}, {'id': 18, 'nam...   \n",
      "4                     [{'id': 35, 'name': 'Comedy'}]   \n",
      "\n",
      "                               homepage     id    imdb_id original_language  \\\n",
      "0  http://toystory.disney.com/toy-story    862  tt0114709                en   \n",
      "1                                   NaN   8844  tt0113497                en   \n",
      "2                                   NaN  15602  tt0113228                en   \n",
      "3                                   NaN  31357  tt0114885                en   \n",
      "4                                   NaN  11862  tt0113041                en   \n",
      "\n",
      "                original_title  \\\n",
      "0                    Toy Story   \n",
      "1                      Jumanji   \n",
      "2             Grumpier Old Men   \n",
      "3            Waiting to Exhale   \n",
      "4  Father of the Bride Part II   \n",
      "\n",
      "                                            overview  ... release_date  \\\n",
      "0  Led by Woody, Andy's toys live happily in his ...  ...   1995-10-30   \n",
      "1  When siblings Judy and Peter discover an encha...  ...   1995-12-15   \n",
      "2  A family wedding reignites the ancient feud be...  ...   1995-12-22   \n",
      "3  Cheated on, mistreated and stepped on, the wom...  ...   1995-12-22   \n",
      "4  Just when George Banks has recovered from his ...  ...   1995-02-10   \n",
      "\n",
      "       revenue runtime                                   spoken_languages  \\\n",
      "0  373554033.0    81.0           [{'iso_639_1': 'en', 'name': 'English'}]   \n",
      "1  262797249.0   104.0  [{'iso_639_1': 'en', 'name': 'English'}, {'iso...   \n",
      "2          0.0   101.0           [{'iso_639_1': 'en', 'name': 'English'}]   \n",
      "3   81452156.0   127.0           [{'iso_639_1': 'en', 'name': 'English'}]   \n",
      "4   76578911.0   106.0           [{'iso_639_1': 'en', 'name': 'English'}]   \n",
      "\n",
      "     status                                            tagline  \\\n",
      "0  Released                                                NaN   \n",
      "1  Released          Roll the dice and unleash the excitement!   \n",
      "2  Released  Still Yelling. Still Fighting. Still Ready for...   \n",
      "3  Released  Friends are the people who let you be yourself...   \n",
      "4  Released  Just When His World Is Back To Normal... He's ...   \n",
      "\n",
      "                         title  video vote_average vote_count  \n",
      "0                    Toy Story  False          7.7     5415.0  \n",
      "1                      Jumanji  False          6.9     2413.0  \n",
      "2             Grumpier Old Men  False          6.5       92.0  \n",
      "3            Waiting to Exhale  False          6.1       34.0  \n",
      "4  Father of the Bride Part II  False          5.7      173.0  \n",
      "\n",
      "[5 rows x 24 columns]\n",
      "      id                                         cast_names  \\\n",
      "0    862  ['Tom Hanks', 'Tim Allen', 'Don Rickles', 'Jim...   \n",
      "1   8844  ['Robin Williams', 'Jonathan Hyde', 'Kirsten D...   \n",
      "2  15602  ['Walter Matthau', 'Jack Lemmon', 'Ann-Margret...   \n",
      "3  31357  ['Whitney Houston', 'Angela Bassett', 'Loretta...   \n",
      "4  11862  ['Steve Martin', 'Diane Keaton', 'Martin Short...   \n",
      "\n",
      "        director_names  \n",
      "0    ['John Lasseter']  \n",
      "1     ['Joe Johnston']  \n",
      "2    ['Howard Deutch']  \n",
      "3  ['Forest Whitaker']  \n",
      "4    ['Charles Shyer']  \n"
     ]
    }
   ],
   "source": [
    "# datasets\n",
    "movies = pd.read_csv(\"..\\Movies\\movies_dataset.csv\", low_memory=False)\n",
    "credits = pd.read_csv(\"..\\Movies\\processed_credits_dataset.csv\")\n",
    "\n",
    "# Vista de los datos\n",
    "print(movies.head())\n",
    "print(credits.head())"
   ]
  },
  {
   "cell_type": "code",
   "execution_count": 11,
   "metadata": {},
   "outputs": [],
   "source": [
    "# Función para desanidar columnas\n",
    "def desanidar_columna(df, columna, key):\n",
    "    def obtener_valor(x):\n",
    "        if pd.notnull(x) and x != 'nan':\n",
    "            try:\n",
    "                # convertir a un diccionario\n",
    "                data = ast.literal_eval(x)\n",
    "                if isinstance(data, dict):  # Verificar diccionario\n",
    "                    return data.get(key)  # .get() para evitar KeyError\n",
    "                else:\n",
    "                    return None  # Retorna None si no es un diccionario\n",
    "            except (ValueError, SyntaxError):\n",
    "                return None  # Retorna None si hay un error en la conversión\n",
    "        return None  # Retorna None si el valor es NaN o 'nan'\n",
    "\n",
    "    df[columna] = df[columna].apply(obtener_valor)\n",
    "\n",
    "\n",
    "# Desanidar columnas específicas\n",
    "desanidar_columna(movies, 'belongs_to_collection', 'name')\n",
    "desanidar_columna(movies, 'production_companies', 'name')\n",
    "desanidar_columna(movies, 'production_countries', 'name')\n",
    "desanidar_columna(movies, 'spoken_languages', 'name')"
   ]
  },
  {
   "cell_type": "code",
   "execution_count": 12,
   "metadata": {},
   "outputs": [],
   "source": [
    "#Rellenar valores nulos:\n",
    "movies['revenue'] = movies['revenue'].fillna(0)# revenue se rellena con 0.\n",
    "movies['budget'] = movies['budget'].fillna(0)# budget se rellena con 0\n",
    "movies = movies.dropna(subset=['release_date'])# elimina las filas nulas."
   ]
  },
  {
   "cell_type": "code",
   "execution_count": 13,
   "metadata": {},
   "outputs": [],
   "source": [
    "#Formato de fechas:\n",
    "#Convertir al formato AAAA-mm-dd\n",
    "movies['release_date'] = pd.to_datetime(movies['release_date'], errors='coerce') \n",
    "#extraer el año en una nueva columna release_year.\n",
    "movies['release_year'] = movies['release_date'].dt.year \n"
   ]
  },
  {
   "cell_type": "code",
   "execution_count": 14,
   "metadata": {},
   "outputs": [],
   "source": [
    "# Crear columna de retorno de inversión :\n",
    "# Convertir a numérico\n",
    "movies['budget'] = pd.to_numeric(movies['budget'], errors='coerce')\n",
    "\n",
    "# calcular el retorno\n",
    "movies['return'] = movies.apply(lambda x: x['revenue'] /\n",
    "                                 x['budget'] if x['budget'] > 0 else 0, axis=1)"
   ]
  },
  {
   "cell_type": "code",
   "execution_count": 15,
   "metadata": {},
   "outputs": [],
   "source": [
    "#Eliminar columnas innecesarias:\n",
    "\n",
    "movies = movies.drop(columns=['video', 'imdb_id', 'adult',\n",
    "                               'original_title', 'poster_path', 'homepage'])"
   ]
  },
  {
   "cell_type": "code",
   "execution_count": 16,
   "metadata": {},
   "outputs": [
    {
     "name": "stderr",
     "output_type": "stream",
     "text": [
      "<>:2: SyntaxWarning: invalid escape sequence '\\M'\n",
      "<>:2: SyntaxWarning: invalid escape sequence '\\M'\n",
      "C:\\Users\\Admin\\AppData\\Local\\Temp\\ipykernel_18744\\4130652931.py:2: SyntaxWarning: invalid escape sequence '\\M'\n",
      "  movies.to_csv('..\\Movies\\processed_movies_dataset.csv', index=False)\n"
     ]
    }
   ],
   "source": [
    "#Guardar dataset:\n",
    "movies.to_csv('..\\Movies\\processed_movies_dataset.csv', index=False)"
   ]
  }
 ],
 "metadata": {
  "kernelspec": {
   "display_name": "Python 3",
   "language": "python",
   "name": "python3"
  },
  "language_info": {
   "codemirror_mode": {
    "name": "ipython",
    "version": 3
   },
   "file_extension": ".py",
   "mimetype": "text/x-python",
   "name": "python",
   "nbconvert_exporter": "python",
   "pygments_lexer": "ipython3",
   "version": "3.12.2"
  }
 },
 "nbformat": 4,
 "nbformat_minor": 2
}
