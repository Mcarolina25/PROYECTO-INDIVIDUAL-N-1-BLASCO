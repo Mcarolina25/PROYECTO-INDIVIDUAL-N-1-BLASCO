{
 "cells": [
  {
   "cell_type": "markdown",
   "metadata": {},
   "source": [
    " Desarrollo de la API con FastAPI"
   ]
  },
  {
   "cell_type": "code",
   "execution_count": 9,
   "metadata": {},
   "outputs": [],
   "source": [
    "from fastapi import FastAPI, HTTPException\n",
    "import pandas as pd\n",
    "from sklearn.feature_extraction.text import TfidfVectorizer\n",
    "from sklearn.metrics.pairwise import cosine_similarity\n",
    "import matplotlib.pyplot as plt\n",
    "from wordcloud import WordCloud"
   ]
  },
  {
   "cell_type": "code",
   "execution_count": 2,
   "metadata": {},
   "outputs": [
    {
     "name": "stderr",
     "output_type": "stream",
     "text": [
      "<>:6: SyntaxWarning: invalid escape sequence '\\M'\n",
      "<>:7: SyntaxWarning: invalid escape sequence '\\M'\n",
      "<>:6: SyntaxWarning: invalid escape sequence '\\M'\n",
      "<>:7: SyntaxWarning: invalid escape sequence '\\M'\n",
      "C:\\Users\\Admin\\AppData\\Local\\Temp\\ipykernel_3128\\1814397409.py:6: SyntaxWarning: invalid escape sequence '\\M'\n",
      "  movies = pd.read_csv('..\\Movies\\processed_movies_dataset.csv')\n",
      "C:\\Users\\Admin\\AppData\\Local\\Temp\\ipykernel_3128\\1814397409.py:7: SyntaxWarning: invalid escape sequence '\\M'\n",
      "  credits= pd.read_csv('..\\Movies\\processed_credits_dataset.csv')\n",
      "C:\\Users\\Admin\\AppData\\Local\\Temp\\ipykernel_3128\\1814397409.py:6: DtypeWarning: Columns (6) have mixed types. Specify dtype option on import or set low_memory=False.\n",
      "  movies = pd.read_csv('..\\Movies\\processed_movies_dataset.csv')\n"
     ]
    }
   ],
   "source": [
    "#Crear la estructura básica\n",
    "\n",
    "app = FastAPI()\n",
    "\n",
    "# Cargar el dataset procesado\n",
    "movies = pd.read_csv('..\\Movies\\processed_movies_dataset.csv')\n",
    "credits= pd.read_csv('..\\Movies\\processed_credits_dataset.csv')\n",
    "\n",
    "@app.get(\"/\")\n",
    "def read_root():\n",
    "    return {\"message\": \"Bienvenido a la API de películas\"}\n"
   ]
  },
  {
   "cell_type": "code",
   "execution_count": 3,
   "metadata": {},
   "outputs": [],
   "source": [
    "# Función para obtener información de un actor\n",
    "@app.get(\"/actor/{nombre_actor}\")\n",
    "def get_actor(nombre_actor: str):\n",
    "    # Filtrar las películas en las que ha participado el actor\n",
    "    actor_movies = credits[credits['cast'].str.contains(nombre_actor, na=False)]\n",
    "    \n",
    "    if actor_movies.empty:\n",
    "        raise HTTPException(status_code=404, detail=\"Actor no encontrado\")\n",
    "\n",
    "    cantidad_peliculas = len(actor_movies)\n",
    "    total_revenue = actor_movies['revenue'].sum()\n",
    "    promedio_revenue = total_revenue / cantidad_peliculas if cantidad_peliculas > 0 else 0\n",
    "\n",
    "    return {\n",
    "        \"mensaje\": f\"El actor {nombre_actor} ha participado de {cantidad_peliculas} filmaciones.\",\n",
    "        \"total_revenue\": total_revenue,\n",
    "        \"promedio_revenue\": promedio_revenue\n",
    "    }\n"
   ]
  },
  {
   "cell_type": "code",
   "execution_count": 4,
   "metadata": {},
   "outputs": [],
   "source": [
    "# Función para obtener información de un director\n",
    "@app.get(\"/director/{nombre_director}\")\n",
    "def get_director(nombre_director: str):\n",
    "    # Filtrar las películas dirigidas por el director\n",
    "    director_movies = credits[credits['crew'].str.contains(nombre_director, na=False)]\n",
    "    \n",
    "    if director_movies.empty:\n",
    "        raise HTTPException(status_code=404, detail=\"Director no encontrado\")\n",
    "\n",
    "    resultados = []\n",
    "    for _, row in director_movies.iterrows():\n",
    "        resultados.append({\n",
    "            \"titulo\": row['title'],\n",
    "            \"fecha_lanzamiento\": row['release_year'],\n",
    "            \"costo\": row['budget'],\n",
    "            \"ganancia\": row['revenue']\n",
    "        })\n",
    "\n",
    "    return {\n",
    "        \"director\": nombre_director,\n",
    "        \"peliculas\": resultados\n",
    "    }\n"
   ]
  },
  {
   "cell_type": "code",
   "execution_count": 3,
   "metadata": {},
   "outputs": [],
   "source": [
    "#Implementar los endpoints\n",
    "#filmaciones por mes:\n",
    "@app.get(\"/cantidad_filmaciones_mes/{mes}\")\n",
    "def cantidad_filmaciones_mes(mes: str):\n",
    "    meses = {\n",
    "        \"enero\": 1, \"febrero\": 2, \"marzo\": 3, \"abril\": 4,\n",
    "        \"mayo\": 5, \"junio\": 6, \"julio\": 7, \"agosto\": 8,\n",
    "        \"septiembre\": 9, \"octubre\": 10, \"noviembre\": 11, \"diciembre\": 12\n",
    "    }\n",
    "    mes_num = meses.get(mes.lower())\n",
    "    if mes_num:\n",
    "        cantidad = movies[movies['release_date'].dt.month == mes_num].shape[0]\n",
    "        return {\"mes\": mes, \"cantidad\": cantidad}\n",
    "    else:\n",
    "        return {\"error\": \"Mes no válido\"}\n",
    "\n",
    "#filmaciones por dia:\n",
    "@app.get(\"/cantidad_filmaciones_dia/{dia}\")\n",
    "def cantidad_filmaciones_dia(dia: str):\n",
    "    dias = {\n",
    "        \"lunes\": 0, \"martes\": 1, \"miércoles\": 2, \"jueves\": 3,\n",
    "        \"viernes\": 4, \"sábado\": 5, \"domingo\": 6\n",
    "    }\n",
    "    dia_num = dias.get(dia.lower())\n",
    "    if dia_num is not None:\n",
    "        cantidad = movies[movies['release_date'].dt.dayofweek == dia_num].shape[0]\n",
    "        return {\"dia\": dia, \"cantidad\": cantidad}\n",
    "    else:\n",
    "        return {\"error\": \"Día no válido\"}\n"
   ]
  },
  {
   "cell_type": "code",
   "execution_count": 4,
   "metadata": {},
   "outputs": [],
   "source": [
    "# titulo, año y score de una pelicula.\n",
    "@app.get(\"/score_titulo/{titulo}\")\n",
    "def score_titulo(titulo: str):\n",
    "    pelicula = movies[movies['title'].str.contains(titulo, case=False, na=False)]\n",
    "    if not pelicula.empty:\n",
    "        return {\n",
    "            \"titulo\": pelicula.iloc[0]['title'],\n",
    "            \"año\": pelicula.iloc[0]['release_year'],\n",
    "            \"score\": pelicula.iloc[0]['popularity']\n",
    "        }\n",
    "    else:\n",
    "        return {\"error\": \"Película no encontrada\"}\n"
   ]
  },
  {
   "cell_type": "code",
   "execution_count": 5,
   "metadata": {},
   "outputs": [],
   "source": [
    "#Votos por titulo.\n",
    "@app.get(\"/votos_titulo/{titulo}\")\n",
    "def votos_titulo(titulo: str):\n",
    "    pelicula = movies[movies['title'].str.contains(titulo, case=False, na=False)]\n",
    "    if not pelicula.empty:\n",
    "        votos = pelicula.iloc[0]['vote_count']\n",
    "        if votos >= 2000:\n",
    "            return {\n",
    "                \"titulo\": pelicula.iloc[0]['title'],\n",
    "                \"votos\": votos,\n",
    "                \"promedio\": pelicula.iloc[0]['vote_average']\n",
    "            }\n",
    "        else:\n",
    "            return {\"error\": \"La película no tiene suficientes votos\"}\n",
    "    else:\n",
    "        return {\"error\": \"Película no encontrada\"}"
   ]
  },
  {
   "cell_type": "code",
   "execution_count": 17,
   "metadata": {},
   "outputs": [
    {
     "name": "stdout",
     "output_type": "stream",
     "text": [
      "0        [{'id': 16, 'name': 'Animation'}, {'id': 35, '...\n",
      "1        [{'id': 12, 'name': 'Adventure'}, {'id': 14, '...\n",
      "2        [{'id': 10749, 'name': 'Romance'}, {'id': 35, ...\n",
      "3        [{'id': 35, 'name': 'Comedy'}, {'id': 18, 'nam...\n",
      "4                           [{'id': 35, 'name': 'Comedy'}]\n",
      "                               ...                        \n",
      "45374    [{'id': 18, 'name': 'Drama'}, {'id': 28, 'name...\n",
      "45375                        [{'id': 18, 'name': 'Drama'}]\n",
      "45376    [{'id': 28, 'name': 'Action'}, {'id': 18, 'nam...\n",
      "45377                                                   []\n",
      "45378                                                   []\n",
      "Name: genres, Length: 45379, dtype: object\n",
      "0        Led by Woody, Andy's toys live happily in his ...\n",
      "1        When siblings Judy and Peter discover an encha...\n",
      "2        A family wedding reignites the ancient feud be...\n",
      "3        Cheated on, mistreated and stepped on, the wom...\n",
      "4        Just when George Banks has recovered from his ...\n",
      "                               ...                        \n",
      "45374    Yet another version of the classic epic, with ...\n",
      "45375    An artist struggles to finish his work while a...\n",
      "45376    When one of her hits goes wrong, a professiona...\n",
      "45377    In a small town live two brothers, one a minis...\n",
      "45378    50 years after decriminalisation of homosexual...\n",
      "Name: overview, Length: 45379, dtype: object\n"
     ]
    }
   ],
   "source": [
    "# Verificar las columnas del DataFrame\n",
    "print(movies['genres'])\n",
    "print(movies['overview'])\n",
    "# Generar una nube de palabras con los títulos de las películas"
   ]
  },
  {
   "cell_type": "code",
   "execution_count": null,
   "metadata": {},
   "outputs": [],
   "source": [
    "# Generar una nube de palabras con los títulos de las películas\n",
    "def generar_nube_palabras():\n",
    "    plt.figure(figsize=(10, 5))\n",
    "    wordcloud = WordCloud(width=800, height=400, background_color='white').generate(' '.join(movies['title'].dropna()))\n",
    "    plt.imshow(wordcloud, interpolation='bilinear')\n",
    "    plt.axis('off')\n",
    "    plt.savefig('nube_palabras.png')  # Guarda la nube de palabras como imagen\n",
    "    plt.close()\n",
    "\n",
    "# Preprocesar los datos para la recomendación\n",
    "tfidf = TfidfVectorizer(stop_words='english')\n",
    "# Asegúrate de que 'genres' esté presente en el DataFrame\n",
    "if 'genres' in movies.columns:\n",
    "    movies['combined_features'] = movies['genres']  # Solo usando géneros para la recomendación\n",
    "else:\n",
    "    raise ValueError(\"La columna 'genres' no se encuentra en el DataFrame.\")\n",
    "\n",
    "tfidf_matrix = tfidf.fit_transform(movies['combined_features'])\n",
    "cosine_sim = cosine_similarity(tfidf_matrix, tfidf_matrix)\n",
    "\n",
    "# Función para obtener recomendaciones\n",
    "@app.get(\"/recomendacion/{titulo}\")\n",
    "def recomendacion(titulo: str):\n",
    "    if titulo not in movies['title'].values:\n",
    "        raise HTTPException(status_code=404, detail=\"Película no encontrada\")\n",
    "\n",
    "    # Obtener el índice de la película\n",
    "    idx = movies.index[movies['title'] == titulo].tolist()[0]\n",
    "\n",
    "    # Obtener las puntuaciones de similitud para todas las películas\n",
    "    sim_scores = list(enumerate(cosine_sim[idx]))\n",
    "\n",
    "    # Ordenar las películas basadas en la puntuación de similitud\n",
    "    sim_scores = sorted(sim_scores, key=lambda x: x[1], reverse=True)\n",
    "\n",
    "    # Obtener las 5 películas más similares\n",
    "    top_5_indices = [i[0] for i in sim_scores[1:6]]  # Excluye la película misma\n",
    "    top_5_titles = movies['title'].iloc[top_5_indices].tolist()\n",
    "\n",
    "    return {\n",
    "        \"peliculas_similares\": top_5_titles\n",
    "    }\n"
   ]
  }
 ],
 "metadata": {
  "kernelspec": {
   "display_name": "Python 3",
   "language": "python",
   "name": "python3"
  },
  "language_info": {
   "codemirror_mode": {
    "name": "ipython",
    "version": 3
   },
   "file_extension": ".py",
   "mimetype": "text/x-python",
   "name": "python",
   "nbconvert_exporter": "python",
   "pygments_lexer": "ipython3",
   "version": "3.12.2"
  }
 },
 "nbformat": 4,
 "nbformat_minor": 2
}
