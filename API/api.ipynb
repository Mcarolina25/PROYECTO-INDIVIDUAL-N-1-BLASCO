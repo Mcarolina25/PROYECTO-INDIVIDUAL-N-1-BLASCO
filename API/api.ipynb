{
 "cells": [
  {
   "cell_type": "markdown",
   "metadata": {},
   "source": [
    " Desarrollo de la API con FastAPI"
   ]
  },
  {
   "cell_type": "code",
   "execution_count": 4,
   "metadata": {},
   "outputs": [],
   "source": [
    "from fastapi import FastAPI\n",
    "import pandas as pd"
   ]
  },
  {
   "cell_type": "code",
   "execution_count": 5,
   "metadata": {},
   "outputs": [
    {
     "name": "stderr",
     "output_type": "stream",
     "text": [
      "<>:6: SyntaxWarning: invalid escape sequence '\\M'\n",
      "<>:6: SyntaxWarning: invalid escape sequence '\\M'\n",
      "C:\\Users\\Admin\\AppData\\Local\\Temp\\ipykernel_7496\\1509608478.py:6: SyntaxWarning: invalid escape sequence '\\M'\n",
      "  movies = pd.read_csv('..\\Movies\\processed_movies_dataset.csv')\n",
      "C:\\Users\\Admin\\AppData\\Local\\Temp\\ipykernel_7496\\1509608478.py:6: DtypeWarning: Columns (6) have mixed types. Specify dtype option on import or set low_memory=False.\n",
      "  movies = pd.read_csv('..\\Movies\\processed_movies_dataset.csv')\n"
     ]
    }
   ],
   "source": [
    "#Crear la estructura básica\n",
    "\n",
    "app = FastAPI()\n",
    "\n",
    "# Cargar el dataset procesado\n",
    "movies = pd.read_csv('..\\Movies\\processed_movies_dataset.csv')\n",
    "\n",
    "@app.get(\"/\")\n",
    "def read_root():\n",
    "    return {\"message\": \"Bienvenido a la API de películas\"}\n"
   ]
  },
  {
   "cell_type": "code",
   "execution_count": 7,
   "metadata": {},
   "outputs": [],
   "source": [
    "#Implementar los endpoints\n",
    "#filmaciones por mes:\n",
    "@app.get(\"/cantidad_filmaciones_mes/{mes}\")\n",
    "def cantidad_filmaciones_mes(mes: str):\n",
    "    meses = {\n",
    "        \"enero\": 1, \"febrero\": 2, \"marzo\": 3, \"abril\": 4,\n",
    "        \"mayo\": 5, \"junio\": 6, \"julio\": 7, \"agosto\": 8,\n",
    "        \"septiembre\": 9, \"octubre\": 10, \"noviembre\": 11, \"diciembre\": 12\n",
    "    }\n",
    "    mes_num = meses.get(mes.lower())\n",
    "    if mes_num:\n",
    "        cantidad = movies[movies['release_date'].dt.month == mes_num].shape[0]\n",
    "        return {\"mes\": mes, \"cantidad\": cantidad}\n",
    "    else:\n",
    "        return {\"error\": \"Mes no válido\"}\n",
    "\n",
    "#filmaciones por dia:\n",
    "@app.get(\"/cantidad_filmaciones_dia/{dia}\")\n",
    "def cantidad_filmaciones_dia(dia: str):\n",
    "    dias = {\n",
    "        \"lunes\": 0, \"martes\": 1, \"miércoles\": 2, \"jueves\": 3,\n",
    "        \"viernes\": 4, \"sábado\": 5, \"domingo\": 6\n",
    "    }\n",
    "    dia_num = dias.get(dia.lower())\n",
    "    if dia_num is not None:\n",
    "        cantidad = movies[movies['release_date'].dt.dayofweek == dia_num].shape[0]\n",
    "        return {\"dia\": dia, \"cantidad\": cantidad}\n",
    "    else:\n",
    "        return {\"error\": \"Día no válido\"}\n"
   ]
  },
  {
   "cell_type": "code",
   "execution_count": 8,
   "metadata": {},
   "outputs": [],
   "source": [
    "# titulo, año y score de una pelicula.\n",
    "@app.get(\"/score_titulo/{titulo}\")\n",
    "def score_titulo(titulo: str):\n",
    "    pelicula = movies[movies['title'].str.contains(titulo, case=False, na=False)]\n",
    "    if not pelicula.empty:\n",
    "        return {\n",
    "            \"titulo\": pelicula.iloc[0]['title'],\n",
    "            \"año\": pelicula.iloc[0]['release_year'],\n",
    "            \"score\": pelicula.iloc[0]['popularity']\n",
    "        }\n",
    "    else:\n",
    "        return {\"error\": \"Película no encontrada\"}\n"
   ]
  },
  {
   "cell_type": "code",
   "execution_count": 9,
   "metadata": {},
   "outputs": [],
   "source": [
    "#Votos por titulo.\n",
    "@app.get(\"/votos_titulo/{titulo}\")\n",
    "def votos_titulo(titulo: str):\n",
    "    pelicula = movies[movies['title'].str.contains(titulo, case=False, na=False)]\n",
    "    if not pelicula.empty:\n",
    "        votos = pelicula.iloc[0]['vote_count']\n",
    "        if votos >= 2000:\n",
    "            return {\n",
    "                \"titulo\": pelicula.iloc[0]['title'],\n",
    "                \"votos\": votos,\n",
    "                \"promedio\": pelicula.iloc[0]['vote_average']\n",
    "            }\n",
    "        else:\n",
    "            return {\"error\": \"La película no tiene suficientes votos\"}\n",
    "    else:\n",
    "        return {\"error\": \"Película no encontrada\"}"
   ]
  }
 ],
 "metadata": {
  "kernelspec": {
   "display_name": "Python 3",
   "language": "python",
   "name": "python3"
  },
  "language_info": {
   "codemirror_mode": {
    "name": "ipython",
    "version": 3
   },
   "file_extension": ".py",
   "mimetype": "text/x-python",
   "name": "python",
   "nbconvert_exporter": "python",
   "pygments_lexer": "ipython3",
   "version": "3.12.2"
  }
 },
 "nbformat": 4,
 "nbformat_minor": 2
}
